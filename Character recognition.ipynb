{
 "cells": [
  {
   "cell_type": "markdown",
   "id": "ac16d500",
   "metadata": {},
   "source": [
    "# Reconaissance des caracteres (A-Z)\n"
   ]
  },
  {
   "cell_type": "markdown",
   "id": "b5856fab",
   "metadata": {},
   "source": [
    "###  Importation des Bibliothèques"
   ]
  },
  {
   "cell_type": "code",
   "execution_count": 11,
   "id": "7f4c7049",
   "metadata": {},
   "outputs": [],
   "source": [
    "import cv2 as cv\n",
    "import numpy as np\n",
    "import pandas as pd\n",
    "from keras.models import load_model\n",
    "import tensorflow as tf\n",
    "import matplotlib.pyplot as plt"
   ]
  },
  {
   "cell_type": "code",
   "execution_count": null,
   "id": "d3ca51ed",
   "metadata": {},
   "outputs": [],
   "source": [
    "from sklearn.model_selection import train_test_split\n",
    "from sklearn.utils import shuffle\n",
    "from keras.utils.np_utils import to_categorical\n",
    "from keras.models import Sequential\n",
    "from keras.layers import Dense, Conv2D, Dropout, Flatten, MaxPooling2D\n",
    "from keras.callbacks import EarlyStopping, ModelCheckpoint"
   ]
  },
  {
   "cell_type": "markdown",
   "id": "ac6d64eb",
   "metadata": {},
   "source": [
    "### Lecture et Analyse du Dataset\n"
   ]
  },
  {
   "cell_type": "code",
   "execution_count": null,
   "id": "262bd037",
   "metadata": {},
   "outputs": [],
   "source": [
    "data = pd.read_csv('archive/A_Z Handwritten Data.csv')"
   ]
  },
  {
   "cell_type": "code",
   "execution_count": null,
   "id": "2335c859",
   "metadata": {},
   "outputs": [
    {
     "data": {
      "text/html": [
       "<div>\n",
       "<style scoped>\n",
       "    .dataframe tbody tr th:only-of-type {\n",
       "        vertical-align: middle;\n",
       "    }\n",
       "\n",
       "    .dataframe tbody tr th {\n",
       "        vertical-align: top;\n",
       "    }\n",
       "\n",
       "    .dataframe thead th {\n",
       "        text-align: right;\n",
       "    }\n",
       "</style>\n",
       "<table border=\"1\" class=\"dataframe\">\n",
       "  <thead>\n",
       "    <tr style=\"text-align: right;\">\n",
       "      <th></th>\n",
       "      <th>0</th>\n",
       "      <th>0.1</th>\n",
       "      <th>0.2</th>\n",
       "      <th>0.3</th>\n",
       "      <th>0.4</th>\n",
       "      <th>0.5</th>\n",
       "      <th>0.6</th>\n",
       "      <th>0.7</th>\n",
       "      <th>0.8</th>\n",
       "      <th>0.9</th>\n",
       "      <th>...</th>\n",
       "      <th>0.639</th>\n",
       "      <th>0.640</th>\n",
       "      <th>0.641</th>\n",
       "      <th>0.642</th>\n",
       "      <th>0.643</th>\n",
       "      <th>0.644</th>\n",
       "      <th>0.645</th>\n",
       "      <th>0.646</th>\n",
       "      <th>0.647</th>\n",
       "      <th>0.648</th>\n",
       "    </tr>\n",
       "  </thead>\n",
       "  <tbody>\n",
       "    <tr>\n",
       "      <th>0</th>\n",
       "      <td>0</td>\n",
       "      <td>0</td>\n",
       "      <td>0</td>\n",
       "      <td>0</td>\n",
       "      <td>0</td>\n",
       "      <td>0</td>\n",
       "      <td>0</td>\n",
       "      <td>0</td>\n",
       "      <td>0</td>\n",
       "      <td>0</td>\n",
       "      <td>...</td>\n",
       "      <td>0</td>\n",
       "      <td>0</td>\n",
       "      <td>0</td>\n",
       "      <td>0</td>\n",
       "      <td>0</td>\n",
       "      <td>0</td>\n",
       "      <td>0</td>\n",
       "      <td>0</td>\n",
       "      <td>0</td>\n",
       "      <td>0</td>\n",
       "    </tr>\n",
       "    <tr>\n",
       "      <th>1</th>\n",
       "      <td>0</td>\n",
       "      <td>0</td>\n",
       "      <td>0</td>\n",
       "      <td>0</td>\n",
       "      <td>0</td>\n",
       "      <td>0</td>\n",
       "      <td>0</td>\n",
       "      <td>0</td>\n",
       "      <td>0</td>\n",
       "      <td>0</td>\n",
       "      <td>...</td>\n",
       "      <td>0</td>\n",
       "      <td>0</td>\n",
       "      <td>0</td>\n",
       "      <td>0</td>\n",
       "      <td>0</td>\n",
       "      <td>0</td>\n",
       "      <td>0</td>\n",
       "      <td>0</td>\n",
       "      <td>0</td>\n",
       "      <td>0</td>\n",
       "    </tr>\n",
       "    <tr>\n",
       "      <th>2</th>\n",
       "      <td>0</td>\n",
       "      <td>0</td>\n",
       "      <td>0</td>\n",
       "      <td>0</td>\n",
       "      <td>0</td>\n",
       "      <td>0</td>\n",
       "      <td>0</td>\n",
       "      <td>0</td>\n",
       "      <td>0</td>\n",
       "      <td>0</td>\n",
       "      <td>...</td>\n",
       "      <td>0</td>\n",
       "      <td>0</td>\n",
       "      <td>0</td>\n",
       "      <td>0</td>\n",
       "      <td>0</td>\n",
       "      <td>0</td>\n",
       "      <td>0</td>\n",
       "      <td>0</td>\n",
       "      <td>0</td>\n",
       "      <td>0</td>\n",
       "    </tr>\n",
       "    <tr>\n",
       "      <th>3</th>\n",
       "      <td>0</td>\n",
       "      <td>0</td>\n",
       "      <td>0</td>\n",
       "      <td>0</td>\n",
       "      <td>0</td>\n",
       "      <td>0</td>\n",
       "      <td>0</td>\n",
       "      <td>0</td>\n",
       "      <td>0</td>\n",
       "      <td>0</td>\n",
       "      <td>...</td>\n",
       "      <td>0</td>\n",
       "      <td>0</td>\n",
       "      <td>0</td>\n",
       "      <td>0</td>\n",
       "      <td>0</td>\n",
       "      <td>0</td>\n",
       "      <td>0</td>\n",
       "      <td>0</td>\n",
       "      <td>0</td>\n",
       "      <td>0</td>\n",
       "    </tr>\n",
       "    <tr>\n",
       "      <th>4</th>\n",
       "      <td>0</td>\n",
       "      <td>0</td>\n",
       "      <td>0</td>\n",
       "      <td>0</td>\n",
       "      <td>0</td>\n",
       "      <td>0</td>\n",
       "      <td>0</td>\n",
       "      <td>0</td>\n",
       "      <td>0</td>\n",
       "      <td>0</td>\n",
       "      <td>...</td>\n",
       "      <td>0</td>\n",
       "      <td>0</td>\n",
       "      <td>0</td>\n",
       "      <td>0</td>\n",
       "      <td>0</td>\n",
       "      <td>0</td>\n",
       "      <td>0</td>\n",
       "      <td>0</td>\n",
       "      <td>0</td>\n",
       "      <td>0</td>\n",
       "    </tr>\n",
       "  </tbody>\n",
       "</table>\n",
       "<p>5 rows × 785 columns</p>\n",
       "</div>"
      ],
      "text/plain": [
       "   0  0.1  0.2  0.3  0.4  0.5  0.6  0.7  0.8  0.9  ...  0.639  0.640  0.641  \\\n",
       "0  0    0    0    0    0    0    0    0    0    0  ...      0      0      0   \n",
       "1  0    0    0    0    0    0    0    0    0    0  ...      0      0      0   \n",
       "2  0    0    0    0    0    0    0    0    0    0  ...      0      0      0   \n",
       "3  0    0    0    0    0    0    0    0    0    0  ...      0      0      0   \n",
       "4  0    0    0    0    0    0    0    0    0    0  ...      0      0      0   \n",
       "\n",
       "   0.642  0.643  0.644  0.645  0.646  0.647  0.648  \n",
       "0      0      0      0      0      0      0      0  \n",
       "1      0      0      0      0      0      0      0  \n",
       "2      0      0      0      0      0      0      0  \n",
       "3      0      0      0      0      0      0      0  \n",
       "4      0      0      0      0      0      0      0  \n",
       "\n",
       "[5 rows x 785 columns]"
      ]
     },
     "execution_count": 4,
     "metadata": {},
     "output_type": "execute_result"
    }
   ],
   "source": [
    "data.head()"
   ]
  },
  {
   "cell_type": "code",
   "execution_count": null,
   "id": "3246707a",
   "metadata": {},
   "outputs": [
    {
     "name": "stdout",
     "output_type": "stream",
     "text": [
      "<class 'pandas.core.frame.DataFrame'>\n",
      "RangeIndex: 372450 entries, 0 to 372449\n",
      "Columns: 785 entries, 0 to 0.648\n",
      "dtypes: int64(785)\n",
      "memory usage: 2.2 GB\n"
     ]
    }
   ],
   "source": [
    "data.info()"
   ]
  },
  {
   "cell_type": "code",
   "execution_count": null,
   "id": "28419685",
   "metadata": {},
   "outputs": [
    {
     "data": {
      "text/plain": [
       "(372450, 785)"
      ]
     },
     "execution_count": 6,
     "metadata": {},
     "output_type": "execute_result"
    }
   ],
   "source": [
    "data.shape"
   ]
  },
  {
   "cell_type": "code",
   "execution_count": null,
   "id": "6f20059a",
   "metadata": {},
   "outputs": [
    {
     "data": {
      "text/html": [
       "<div>\n",
       "<style scoped>\n",
       "    .dataframe tbody tr th:only-of-type {\n",
       "        vertical-align: middle;\n",
       "    }\n",
       "\n",
       "    .dataframe tbody tr th {\n",
       "        vertical-align: top;\n",
       "    }\n",
       "\n",
       "    .dataframe thead th {\n",
       "        text-align: right;\n",
       "    }\n",
       "</style>\n",
       "<table border=\"1\" class=\"dataframe\">\n",
       "  <thead>\n",
       "    <tr style=\"text-align: right;\">\n",
       "      <th></th>\n",
       "      <th>0</th>\n",
       "      <th>0.1</th>\n",
       "      <th>0.2</th>\n",
       "      <th>0.3</th>\n",
       "      <th>0.4</th>\n",
       "      <th>0.5</th>\n",
       "      <th>0.6</th>\n",
       "      <th>0.7</th>\n",
       "      <th>0.8</th>\n",
       "      <th>0.9</th>\n",
       "      <th>...</th>\n",
       "      <th>0.639</th>\n",
       "      <th>0.640</th>\n",
       "      <th>0.641</th>\n",
       "      <th>0.642</th>\n",
       "      <th>0.643</th>\n",
       "      <th>0.644</th>\n",
       "      <th>0.645</th>\n",
       "      <th>0.646</th>\n",
       "      <th>0.647</th>\n",
       "      <th>0.648</th>\n",
       "    </tr>\n",
       "  </thead>\n",
       "  <tbody>\n",
       "    <tr>\n",
       "      <th>count</th>\n",
       "      <td>372450.000000</td>\n",
       "      <td>372450.0</td>\n",
       "      <td>372450.0</td>\n",
       "      <td>372450.0</td>\n",
       "      <td>372450.0</td>\n",
       "      <td>372450.0</td>\n",
       "      <td>372450.0</td>\n",
       "      <td>372450.0</td>\n",
       "      <td>372450.0</td>\n",
       "      <td>372450.0</td>\n",
       "      <td>...</td>\n",
       "      <td>372450.000000</td>\n",
       "      <td>372450.000000</td>\n",
       "      <td>372450.000000</td>\n",
       "      <td>372450.000000</td>\n",
       "      <td>372450.000000</td>\n",
       "      <td>372450.000000</td>\n",
       "      <td>372450.000000</td>\n",
       "      <td>372450.000000</td>\n",
       "      <td>372450.000000</td>\n",
       "      <td>372450.000000</td>\n",
       "    </tr>\n",
       "    <tr>\n",
       "      <th>mean</th>\n",
       "      <td>13.523490</td>\n",
       "      <td>0.0</td>\n",
       "      <td>0.0</td>\n",
       "      <td>0.0</td>\n",
       "      <td>0.0</td>\n",
       "      <td>0.0</td>\n",
       "      <td>0.0</td>\n",
       "      <td>0.0</td>\n",
       "      <td>0.0</td>\n",
       "      <td>0.0</td>\n",
       "      <td>...</td>\n",
       "      <td>0.001616</td>\n",
       "      <td>0.001592</td>\n",
       "      <td>0.001117</td>\n",
       "      <td>0.000929</td>\n",
       "      <td>0.000685</td>\n",
       "      <td>0.000596</td>\n",
       "      <td>0.000618</td>\n",
       "      <td>0.000690</td>\n",
       "      <td>0.000239</td>\n",
       "      <td>0.000011</td>\n",
       "    </tr>\n",
       "    <tr>\n",
       "      <th>std</th>\n",
       "      <td>6.740824</td>\n",
       "      <td>0.0</td>\n",
       "      <td>0.0</td>\n",
       "      <td>0.0</td>\n",
       "      <td>0.0</td>\n",
       "      <td>0.0</td>\n",
       "      <td>0.0</td>\n",
       "      <td>0.0</td>\n",
       "      <td>0.0</td>\n",
       "      <td>0.0</td>\n",
       "      <td>...</td>\n",
       "      <td>0.490788</td>\n",
       "      <td>0.517297</td>\n",
       "      <td>0.421332</td>\n",
       "      <td>0.419180</td>\n",
       "      <td>0.385566</td>\n",
       "      <td>0.319820</td>\n",
       "      <td>0.208942</td>\n",
       "      <td>0.335227</td>\n",
       "      <td>0.134852</td>\n",
       "      <td>0.006554</td>\n",
       "    </tr>\n",
       "    <tr>\n",
       "      <th>min</th>\n",
       "      <td>0.000000</td>\n",
       "      <td>0.0</td>\n",
       "      <td>0.0</td>\n",
       "      <td>0.0</td>\n",
       "      <td>0.0</td>\n",
       "      <td>0.0</td>\n",
       "      <td>0.0</td>\n",
       "      <td>0.0</td>\n",
       "      <td>0.0</td>\n",
       "      <td>0.0</td>\n",
       "      <td>...</td>\n",
       "      <td>0.000000</td>\n",
       "      <td>0.000000</td>\n",
       "      <td>0.000000</td>\n",
       "      <td>0.000000</td>\n",
       "      <td>0.000000</td>\n",
       "      <td>0.000000</td>\n",
       "      <td>0.000000</td>\n",
       "      <td>0.000000</td>\n",
       "      <td>0.000000</td>\n",
       "      <td>0.000000</td>\n",
       "    </tr>\n",
       "    <tr>\n",
       "      <th>25%</th>\n",
       "      <td>10.000000</td>\n",
       "      <td>0.0</td>\n",
       "      <td>0.0</td>\n",
       "      <td>0.0</td>\n",
       "      <td>0.0</td>\n",
       "      <td>0.0</td>\n",
       "      <td>0.0</td>\n",
       "      <td>0.0</td>\n",
       "      <td>0.0</td>\n",
       "      <td>0.0</td>\n",
       "      <td>...</td>\n",
       "      <td>0.000000</td>\n",
       "      <td>0.000000</td>\n",
       "      <td>0.000000</td>\n",
       "      <td>0.000000</td>\n",
       "      <td>0.000000</td>\n",
       "      <td>0.000000</td>\n",
       "      <td>0.000000</td>\n",
       "      <td>0.000000</td>\n",
       "      <td>0.000000</td>\n",
       "      <td>0.000000</td>\n",
       "    </tr>\n",
       "    <tr>\n",
       "      <th>50%</th>\n",
       "      <td>14.000000</td>\n",
       "      <td>0.0</td>\n",
       "      <td>0.0</td>\n",
       "      <td>0.0</td>\n",
       "      <td>0.0</td>\n",
       "      <td>0.0</td>\n",
       "      <td>0.0</td>\n",
       "      <td>0.0</td>\n",
       "      <td>0.0</td>\n",
       "      <td>0.0</td>\n",
       "      <td>...</td>\n",
       "      <td>0.000000</td>\n",
       "      <td>0.000000</td>\n",
       "      <td>0.000000</td>\n",
       "      <td>0.000000</td>\n",
       "      <td>0.000000</td>\n",
       "      <td>0.000000</td>\n",
       "      <td>0.000000</td>\n",
       "      <td>0.000000</td>\n",
       "      <td>0.000000</td>\n",
       "      <td>0.000000</td>\n",
       "    </tr>\n",
       "    <tr>\n",
       "      <th>75%</th>\n",
       "      <td>18.000000</td>\n",
       "      <td>0.0</td>\n",
       "      <td>0.0</td>\n",
       "      <td>0.0</td>\n",
       "      <td>0.0</td>\n",
       "      <td>0.0</td>\n",
       "      <td>0.0</td>\n",
       "      <td>0.0</td>\n",
       "      <td>0.0</td>\n",
       "      <td>0.0</td>\n",
       "      <td>...</td>\n",
       "      <td>0.000000</td>\n",
       "      <td>0.000000</td>\n",
       "      <td>0.000000</td>\n",
       "      <td>0.000000</td>\n",
       "      <td>0.000000</td>\n",
       "      <td>0.000000</td>\n",
       "      <td>0.000000</td>\n",
       "      <td>0.000000</td>\n",
       "      <td>0.000000</td>\n",
       "      <td>0.000000</td>\n",
       "    </tr>\n",
       "    <tr>\n",
       "      <th>max</th>\n",
       "      <td>25.000000</td>\n",
       "      <td>0.0</td>\n",
       "      <td>0.0</td>\n",
       "      <td>0.0</td>\n",
       "      <td>0.0</td>\n",
       "      <td>0.0</td>\n",
       "      <td>0.0</td>\n",
       "      <td>0.0</td>\n",
       "      <td>0.0</td>\n",
       "      <td>0.0</td>\n",
       "      <td>...</td>\n",
       "      <td>252.000000</td>\n",
       "      <td>226.000000</td>\n",
       "      <td>229.000000</td>\n",
       "      <td>228.000000</td>\n",
       "      <td>235.000000</td>\n",
       "      <td>194.000000</td>\n",
       "      <td>103.000000</td>\n",
       "      <td>198.000000</td>\n",
       "      <td>82.000000</td>\n",
       "      <td>4.000000</td>\n",
       "    </tr>\n",
       "  </tbody>\n",
       "</table>\n",
       "<p>8 rows × 785 columns</p>\n",
       "</div>"
      ],
      "text/plain": [
       "                   0       0.1       0.2       0.3       0.4       0.5  \\\n",
       "count  372450.000000  372450.0  372450.0  372450.0  372450.0  372450.0   \n",
       "mean       13.523490       0.0       0.0       0.0       0.0       0.0   \n",
       "std         6.740824       0.0       0.0       0.0       0.0       0.0   \n",
       "min         0.000000       0.0       0.0       0.0       0.0       0.0   \n",
       "25%        10.000000       0.0       0.0       0.0       0.0       0.0   \n",
       "50%        14.000000       0.0       0.0       0.0       0.0       0.0   \n",
       "75%        18.000000       0.0       0.0       0.0       0.0       0.0   \n",
       "max        25.000000       0.0       0.0       0.0       0.0       0.0   \n",
       "\n",
       "            0.6       0.7       0.8       0.9  ...          0.639  \\\n",
       "count  372450.0  372450.0  372450.0  372450.0  ...  372450.000000   \n",
       "mean        0.0       0.0       0.0       0.0  ...       0.001616   \n",
       "std         0.0       0.0       0.0       0.0  ...       0.490788   \n",
       "min         0.0       0.0       0.0       0.0  ...       0.000000   \n",
       "25%         0.0       0.0       0.0       0.0  ...       0.000000   \n",
       "50%         0.0       0.0       0.0       0.0  ...       0.000000   \n",
       "75%         0.0       0.0       0.0       0.0  ...       0.000000   \n",
       "max         0.0       0.0       0.0       0.0  ...     252.000000   \n",
       "\n",
       "               0.640          0.641          0.642          0.643  \\\n",
       "count  372450.000000  372450.000000  372450.000000  372450.000000   \n",
       "mean        0.001592       0.001117       0.000929       0.000685   \n",
       "std         0.517297       0.421332       0.419180       0.385566   \n",
       "min         0.000000       0.000000       0.000000       0.000000   \n",
       "25%         0.000000       0.000000       0.000000       0.000000   \n",
       "50%         0.000000       0.000000       0.000000       0.000000   \n",
       "75%         0.000000       0.000000       0.000000       0.000000   \n",
       "max       226.000000     229.000000     228.000000     235.000000   \n",
       "\n",
       "               0.644          0.645          0.646          0.647  \\\n",
       "count  372450.000000  372450.000000  372450.000000  372450.000000   \n",
       "mean        0.000596       0.000618       0.000690       0.000239   \n",
       "std         0.319820       0.208942       0.335227       0.134852   \n",
       "min         0.000000       0.000000       0.000000       0.000000   \n",
       "25%         0.000000       0.000000       0.000000       0.000000   \n",
       "50%         0.000000       0.000000       0.000000       0.000000   \n",
       "75%         0.000000       0.000000       0.000000       0.000000   \n",
       "max       194.000000     103.000000     198.000000      82.000000   \n",
       "\n",
       "               0.648  \n",
       "count  372450.000000  \n",
       "mean        0.000011  \n",
       "std         0.006554  \n",
       "min         0.000000  \n",
       "25%         0.000000  \n",
       "50%         0.000000  \n",
       "75%         0.000000  \n",
       "max         4.000000  \n",
       "\n",
       "[8 rows x 785 columns]"
      ]
     },
     "execution_count": 7,
     "metadata": {},
     "output_type": "execute_result"
    }
   ],
   "source": [
    "data.describe()"
   ]
  },
  {
   "cell_type": "code",
   "execution_count": null,
   "id": "c2a7e4e5",
   "metadata": {},
   "outputs": [],
   "source": [
    "data.isnull().sum() #from below result it is clear that there are no null values"
   ]
  },
  {
   "cell_type": "code",
   "execution_count": null,
   "id": "b59434eb",
   "metadata": {},
   "outputs": [],
   "source": [
    "my_data = data.values\n",
    "my_data"
   ]
  },
  {
   "cell_type": "markdown",
   "id": "98880454",
   "metadata": {},
   "source": [
    "###  Séparation des Colonnes x et y du Dataset\n"
   ]
  },
  {
   "cell_type": "code",
   "execution_count": null,
   "id": "ab289440",
   "metadata": {},
   "outputs": [],
   "source": [
    "X = my_data[:,1:]\n",
    "y = my_data[:,:1]"
   ]
  },
  {
   "cell_type": "code",
   "execution_count": null,
   "id": "a7de128d",
   "metadata": {},
   "outputs": [
    {
     "name": "stdout",
     "output_type": "stream",
     "text": [
      "(372450, 784)\n",
      "(372450, 1)\n"
     ]
    }
   ],
   "source": [
    "print(X.shape)\n",
    "print(y.shape)"
   ]
  },
  {
   "cell_type": "markdown",
   "id": "aed5f866",
   "metadata": {},
   "source": [
    "### Séparation en Ensemble d'Entraînement et de Validation\n"
   ]
  },
  {
   "cell_type": "code",
   "execution_count": null,
   "id": "74a9c234",
   "metadata": {},
   "outputs": [],
   "source": [
    "#X_train.shape (297960, 784)\n",
    "#(X_test.shape 74490, 784)\n",
    "X_train, X_test, y_train, y_test = train_test_split(X, y, test_size = 0.2, random_state = 1)\n",
    "\n",
    "#reshaping to 28*28 pixels from 784\n",
    "X_train = np.reshape(X_train,(X_train.shape[0],28,28))\n",
    "X_test = np.reshape(X_test,(X_test.shape[0],28,28))"
   ]
  },
  {
   "cell_type": "code",
   "execution_count": null,
   "id": "d12baaae",
   "metadata": {},
   "outputs": [
    {
     "name": "stdout",
     "output_type": "stream",
     "text": [
      "(297960, 28, 28)\n",
      "(74490, 28, 28)\n"
     ]
    }
   ],
   "source": [
    "print(X_train.shape)\n",
    "print(X_test.shape)"
   ]
  },
  {
   "cell_type": "code",
   "execution_count": null,
   "id": "126193ac",
   "metadata": {},
   "outputs": [
    {
     "name": "stdout",
     "output_type": "stream",
     "text": [
      "(297960, 1)\n",
      "(74490, 1)\n"
     ]
    }
   ],
   "source": [
    "print(y_train.shape)\n",
    "print(y_test.shape)"
   ]
  },
  {
   "cell_type": "markdown",
   "id": "0f2e7036",
   "metadata": {},
   "source": [
    "### Tracé du Nombre d'Images pour Chaque Lettre du Dataset\n",
    "\n",
    "\n"
   ]
  },
  {
   "cell_type": "code",
   "execution_count": null,
   "id": "77884408",
   "metadata": {},
   "outputs": [
    {
     "data": {
      "image/png": "[encoded data removed]",
      "text/plain": [
       "<Figure size 1080x720 with 1 Axes>"
      ]
     },
     "metadata": {
      "needs_background": "light"
     },
     "output_type": "display_data"
    }
   ],
   "source": [
    "# Plotting the number of alphabets in the dataset\n",
    "# 1): Firstly we create a count list of 26 entries of zeroes and then count each label in y and append them in the count list\n",
    "# 2): Now we create a list – alphabets containing all the characters\n",
    "# 3): After that using the count & alphabets lists we draw the horizontal bar plot.\n",
    "\n",
    "count = np.zeros(26, dtype = 'int') #count list containing all zeroes\n",
    "\n",
    "#counting each label\n",
    "for i in y:\n",
    "    count[i] += 1\n",
    "# count = array([13869,  8668, 23409, 10134, 11440,  1163,  5762,  7218,  1120,\n",
    "#        8493,  5603, 11586, 12336, 19010, 57825, 19341,  5812, 11566,\n",
    "#      48419, 22495, 29008,  4182, 10784,  6272, 10859,  6076])\n",
    "\n",
    "#creating a list of alphabets\n",
    "alphabets = ['A','B','C','D','E','F','G','H','I','J','K','L','M','N','O','P','Q','R','S','T','U','V','W','X','Y','Z']\n",
    "\n",
    "plt.figure(figsize=(15,10))\n",
    "plt.barh(alphabets, count, color = \"cyan\")\n",
    "plt.xlabel(\"Number of Alphabets\",fontsize = 20, fontweight = 'bold',color = 'green')\n",
    "plt.ylabel(\"Alphabets\",fontsize = 30, fontweight = 'bold',color = 'green')\n",
    "plt.title(\"No. of images available for each alphabet in the dataset\", fontsize = 20, fontweight = 'bold', color = \"red\")\n",
    "plt.grid()\n",
    "plt.show()"
   ]
  },
  {
   "cell_type": "markdown",
   "id": "3d84e66c",
   "metadata": {},
   "source": [
    "### Affichage d'Images Aléatoires\n"
   ]
  },
  {
   "cell_type": "code",
   "execution_count": null,
   "id": "23e5cb41",
   "metadata": {},
   "outputs": [
    {
     "data": {
      "image/png": "[encoded data removed]",
      "text/plain": [
       "<Figure size 1080x1080 with 9 Axes>"
      ]
     },
     "metadata": {
      "needs_background": "light"
     },
     "output_type": "display_data"
    }
   ],
   "source": [
    "img_list = shuffle(X_train[:1000])\n",
    "fig,ax = plt.subplots(3,3,figsize=(15,15))\n",
    "axes = ax.flatten()\n",
    "for i in range(9):\n",
    "    axes[i].imshow(img_list[i])\n",
    "    axes[i].grid()\n",
    "plt.show()"
   ]
  },
  {
   "cell_type": "markdown",
   "id": "9bd2436a",
   "metadata": {},
   "source": [
    "### Redimensionnement des Images d'Entraînement et de Test pour le Modèle CNN"
   ]
  },
  {
   "cell_type": "code",
   "execution_count": null,
   "id": "cc41e617",
   "metadata": {},
   "outputs": [
    {
     "name": "stdout",
     "output_type": "stream",
     "text": [
      "New shape of train and test dataset\n",
      "(297960, 28, 28, 1)\n",
      "(74490, 28, 28, 1)\n"
     ]
    }
   ],
   "source": [
    "\n",
    "X_train = X_train.reshape(X_train.shape[0], X_train.shape[1], X_train.shape[2],1)\n",
    "X_test = X_test.reshape(X_test.shape[0], X_test.shape[1], X_test.shape[2],1)\n",
    "\n",
    "print(\"New shape of train and test dataset\")\n",
    "print(X_train.shape)\n",
    "print(X_test.shape)"
   ]
  },
  {
   "cell_type": "markdown",
   "id": "3bd5662e",
   "metadata": {},
   "source": [
    "### Réduction de l'Échantillon des Images à une Plage de (0-1)\n"
   ]
  },
  {
   "cell_type": "code",
   "execution_count": null,
   "id": "7bf7a5e0",
   "metadata": {},
   "outputs": [],
   "source": [
    "X_train = X_train/255.\n",
    "X_test = X_test/255."
   ]
  },
  {
   "cell_type": "markdown",
   "id": "0e15625d",
   "metadata": {},
   "source": [
    "### Conversion des Valeurs Entières des Étiquettes en Valeurs Catégorielles de 26 Classes\n"
   ]
  },
  {
   "cell_type": "code",
   "execution_count": null,
   "id": "f02bf746",
   "metadata": {},
   "outputs": [
    {
     "name": "stdout",
     "output_type": "stream",
     "text": [
      "New shape of train labels: (297960, 26)\n",
      "New shape of test labels: (74490, 26)\n"
     ]
    }
   ],
   "source": [
    "\n",
    "categorical_ytrain = to_categorical(y_train, num_classes = 26, dtype = 'int')\n",
    "print(\"New shape of train labels:\", categorical_ytrain.shape)\n",
    "\n",
    "categorical_ytest = to_categorical(y_test, num_classes = 26, dtype = 'int')\n",
    "print(\"New shape of test labels:\", categorical_ytest.shape)"
   ]
  },
  {
   "cell_type": "markdown",
   "id": "09243aaf",
   "metadata": {},
   "source": [
    "### Architecture du Modèle CNN\n"
   ]
  },
  {
   "cell_type": "code",
   "execution_count": null,
   "id": "26623598",
   "metadata": {},
   "outputs": [],
   "source": [
    "model = Sequential()\n",
    "\n",
    "#First Conv1D layer\n",
    "model.add(Conv2D(32,kernel_size = (3,3),activation = 'relu',input_shape = (28,28,1)))\n",
    "model.add(MaxPooling2D(pool_size = (2,2),strides = 2))\n",
    "\n",
    "#Second Conv1D layer\n",
    "model.add(Conv2D(filters = 64, kernel_size = (3,3),activation = 'relu', padding = 'same'))\n",
    "model.add(MaxPooling2D(pool_size = (2,2), strides = 2))\n",
    "\n",
    "#Third Conv1D layer\n",
    "model.add(Conv2D(filters = 128, kernel_size = (3,3),activation = 'relu', padding = 'valid'))\n",
    "model.add(MaxPooling2D(pool_size = (2,2), strides = 2))\n",
    "\n",
    "#Flatten layer\n",
    "model.add(Flatten())\n",
    "\n",
    "#Dense layer 1\n",
    "model.add(Dense(128, activation = 'relu'))\n",
    "model.add(Dropout(0.2))\n",
    "\n",
    "#Dense layer 2\n",
    "model.add(Dense(64,activation = 'relu'))\n",
    "\n",
    "#Final layer of 26 nodes\n",
    "model.add(Dense(26,activation = 'softmax'))\n",
    "\n",
    "#Define the loss function to be categorical cross-entropy since it is a multi-classification problem:\n",
    "model.compile(optimizer = 'adam', loss = 'categorical_crossentropy', metrics = ['accuracy'])"
   ]
  },
  {
   "cell_type": "code",
   "execution_count": null,
   "id": "74282726",
   "metadata": {},
   "outputs": [],
   "source": [
    "es = EarlyStopping(monitor='val_loss', mode='min', verbose=1, patience=10, min_delta=0.001) \n",
    "mc = ModelCheckpoint('best_model.h5', monitor='val_accuracy', verbose=1, save_best_only=True, mode='max')"
   ]
  },
  {
   "cell_type": "markdown",
   "id": "8c5667d1",
   "metadata": {},
   "source": [
    "##### Entraînement du Modèle\n"
   ]
  },
  {
   "cell_type": "code",
   "execution_count": null,
   "id": "0ad34604",
   "metadata": {
    "scrolled": true
   },
   "outputs": [
    {
     "name": "stdout",
     "output_type": "stream",
     "text": [
      "Epoch 1/100\n",
      "9312/9312 [==============================] - ETA: 0s - loss: 0.1510 - accuracy: 0.9568\n",
      "Epoch 00001: val_accuracy improved from -inf to 0.97959, saving model to best_model.h5\n",
      "9312/9312 [==============================] - 55s 5ms/step - loss: 0.1510 - accuracy: 0.9568 - val_loss: 0.0713 - val_accuracy: 0.9796\n",
      "Epoch 2/100\n",
      "9301/9312 [============================>.] - ETA: 0s - loss: 0.0602 - accuracy: 0.9832\n",
      "Epoch 00002: val_accuracy improved from 0.97959 to 0.98212, saving model to best_model.h5\n",
      "9312/9312 [==============================] - 47s 5ms/step - loss: 0.0602 - accuracy: 0.9833 - val_loss: 0.0654 - val_accuracy: 0.9821\n",
      "Epoch 3/100\n",
      "9307/9312 [============================>.] - ETA: 0s - loss: 0.0450 - accuracy: 0.9875\n",
      "Epoch 00003: val_accuracy improved from 0.98212 to 0.98883, saving model to best_model.h5\n",
      "9312/9312 [==============================] - 46s 5ms/step - loss: 0.0450 - accuracy: 0.9875 - val_loss: 0.0428 - val_accuracy: 0.9888\n",
      "Epoch 4/100\n",
      "9305/9312 [============================>.] - ETA: 0s - loss: 0.0378 - accuracy: 0.9892\n",
      "Epoch 00004: val_accuracy improved from 0.98883 to 0.99031, saving model to best_model.h5\n",
      "9312/9312 [==============================] - 46s 5ms/step - loss: 0.0377 - accuracy: 0.9892 - val_loss: 0.0379 - val_accuracy: 0.9903\n",
      "Epoch 5/100\n",
      "9304/9312 [============================>.] - ETA: 0s - loss: 0.0329 - accuracy: 0.9904\n",
      "Epoch 00005: val_accuracy improved from 0.99031 to 0.99033, saving model to best_model.h5\n",
      "9312/9312 [==============================] - 48s 5ms/step - loss: 0.0329 - accuracy: 0.9904 - val_loss: 0.0409 - val_accuracy: 0.9903\n",
      "Epoch 6/100\n",
      "9305/9312 [============================>.] - ETA: 0s - loss: 0.0290 - accuracy: 0.9916\n",
      "Epoch 00006: val_accuracy improved from 0.99033 to 0.99118, saving model to best_model.h5\n",
      "9312/9312 [==============================] - 49s 5ms/step - loss: 0.0290 - accuracy: 0.9916 - val_loss: 0.0374 - val_accuracy: 0.9912\n",
      "Epoch 7/100\n",
      "9312/9312 [==============================] - ETA: 0s - loss: 0.0269 - accuracy: 0.9921\n",
      "Epoch 00007: val_accuracy improved from 0.99118 to 0.99213, saving model to best_model.h5\n",
      "9312/9312 [==============================] - 49s 5ms/step - loss: 0.0269 - accuracy: 0.9921 - val_loss: 0.0351 - val_accuracy: 0.9921\n",
      "Epoch 8/100\n",
      "9308/9312 [============================>.] - ETA: 0s - loss: 0.0253 - accuracy: 0.9927\n",
      "Epoch 00008: val_accuracy did not improve from 0.99213\n",
      "9312/9312 [==============================] - 48s 5ms/step - loss: 0.0253 - accuracy: 0.9927 - val_loss: 0.0393 - val_accuracy: 0.9912\n",
      "Epoch 9/100\n",
      "9307/9312 [============================>.] - ETA: 0s - loss: 0.0240 - accuracy: 0.9933\n",
      "Epoch 00009: val_accuracy improved from 0.99213 to 0.99231, saving model to best_model.h5\n",
      "9312/9312 [==============================] - 55s 6ms/step - loss: 0.0240 - accuracy: 0.9933 - val_loss: 0.0367 - val_accuracy: 0.9923\n",
      "Epoch 10/100\n",
      "9304/9312 [============================>.] - ETA: 0s - loss: 0.0229 - accuracy: 0.9934\n",
      "Epoch 00010: val_accuracy did not improve from 0.99231\n",
      "9312/9312 [==============================] - 52s 6ms/step - loss: 0.0229 - accuracy: 0.9934 - val_loss: 0.0351 - val_accuracy: 0.9921\n",
      "Epoch 11/100\n",
      "9302/9312 [============================>.] - ETA: 0s - loss: 0.0225 - accuracy: 0.9936\n",
      "Epoch 00011: val_accuracy did not improve from 0.99231\n",
      "9312/9312 [==============================] - 46s 5ms/step - loss: 0.0225 - accuracy: 0.9936 - val_loss: 0.0386 - val_accuracy: 0.9918\n",
      "Epoch 12/100\n",
      "9301/9312 [============================>.] - ETA: 0s - loss: 0.0210 - accuracy: 0.9941\n",
      "Epoch 00012: val_accuracy improved from 0.99231 to 0.99252, saving model to best_model.h5\n",
      "9312/9312 [==============================] - 47s 5ms/step - loss: 0.0210 - accuracy: 0.9941 - val_loss: 0.0359 - val_accuracy: 0.9925\n",
      "Epoch 13/100\n",
      "9302/9312 [============================>.] - ETA: 0s - loss: 0.0211 - accuracy: 0.9941\n",
      "Epoch 00013: val_accuracy improved from 0.99252 to 0.99331, saving model to best_model.h5\n",
      "9312/9312 [==============================] - 49s 5ms/step - loss: 0.0211 - accuracy: 0.9941 - val_loss: 0.0398 - val_accuracy: 0.9933\n",
      "Epoch 14/100\n",
      "9304/9312 [============================>.] - ETA: 0s - loss: 0.0211 - accuracy: 0.9942\n",
      "Epoch 00014: val_accuracy did not improve from 0.99331\n",
      "9312/9312 [==============================] - 50s 5ms/step - loss: 0.0211 - accuracy: 0.9942 - val_loss: 0.0408 - val_accuracy: 0.9921\n",
      "Epoch 15/100\n",
      "9306/9312 [============================>.] - ETA: 0s - loss: 0.0201 - accuracy: 0.9945\n",
      "Epoch 00015: val_accuracy improved from 0.99331 to 0.99356, saving model to best_model.h5\n",
      "9312/9312 [==============================] - 49s 5ms/step - loss: 0.0201 - accuracy: 0.9945 - val_loss: 0.0390 - val_accuracy: 0.9936\n",
      "Epoch 16/100\n",
      "9308/9312 [============================>.] - ETA: 0s - loss: 0.0196 - accuracy: 0.9946\n",
      "Epoch 00016: val_accuracy did not improve from 0.99356\n",
      "9312/9312 [==============================] - 51s 5ms/step - loss: 0.0196 - accuracy: 0.9946 - val_loss: 0.0462 - val_accuracy: 0.9922\n",
      "Epoch 17/100\n",
      "9305/9312 [============================>.] - ETA: 0s - loss: 0.0194 - accuracy: 0.9948\n",
      "Epoch 00017: val_accuracy did not improve from 0.99356\n",
      "9312/9312 [==============================] - 49s 5ms/step - loss: 0.0195 - accuracy: 0.9947 - val_loss: 0.0452 - val_accuracy: 0.9922\n",
      "Epoch 00017: early stopping\n"
     ]
    }
   ],
   "source": [
    "history = model.fit(x = X_train, y = categorical_ytrain, epochs = 100, callbacks=[es,mc], validation_data = (X_test,categorical_ytest))"
   ]
  },
  {
   "cell_type": "code",
   "execution_count": null,
   "id": "f1e39059",
   "metadata": {},
   "outputs": [
    {
     "name": "stdout",
     "output_type": "stream",
     "text": [
      "2328/2328 [==============================] - 6s 2ms/step - loss: 0.0452 - accuracy: 0.9922\n"
     ]
    },
    {
     "data": {
      "text/plain": [
       "[0.04515548422932625, 0.9922137260437012]"
      ]
     },
     "execution_count": 27,
     "metadata": {},
     "output_type": "execute_result"
    }
   ],
   "source": [
    "model.evaluate(X_test,categorical_ytest)"
   ]
  },
  {
   "cell_type": "code",
   "execution_count": null,
   "id": "95af59f3",
   "metadata": {},
   "outputs": [
    {
     "name": "stdout",
     "output_type": "stream",
     "text": [
      "Model: \"sequential\"\n",
      "_________________________________________________________________\n",
      " Layer (type)                Output Shape              Param #   \n",
      "=================================================================\n",
      " conv2d (Conv2D)             (None, 26, 26, 32)        320       \n",
      "                                                                 \n",
      " max_pooling2d (MaxPooling2D  (None, 13, 13, 32)       0         \n",
      " )                                                               \n",
      "                                                                 \n",
      " conv2d_1 (Conv2D)           (None, 13, 13, 64)        18496     \n",
      "                                                                 \n",
      " max_pooling2d_1 (MaxPooling  (None, 6, 6, 64)         0         \n",
      " 2D)                                                             \n",
      "                                                                 \n",
      " conv2d_2 (Conv2D)           (None, 4, 4, 128)         73856     \n",
      "                                                                 \n",
      " max_pooling2d_2 (MaxPooling  (None, 2, 2, 128)        0         \n",
      " 2D)                                                             \n",
      "                                                                 \n",
      " flatten (Flatten)           (None, 512)               0         \n",
      "                                                                 \n",
      " dense (Dense)               (None, 128)               65664     \n",
      "                                                                 \n",
      " dropout (Dropout)           (None, 128)               0         \n",
      "                                                                 \n",
      " dense_1 (Dense)             (None, 64)                8256      \n",
      "                                                                 \n",
      " dense_2 (Dense)             (None, 26)                1690      \n",
      "                                                                 \n",
      "=================================================================\n",
      "Total params: 168,282\n",
      "Trainable params: 168,282\n",
      "Non-trainable params: 0\n",
      "_________________________________________________________________\n"
     ]
    }
   ],
   "source": [
    "model.summary()"
   ]
  },
  {
   "cell_type": "markdown",
   "id": "cae9139c",
   "metadata": {},
   "source": [
    "### Évaluation du Modèle Entraîné\n"
   ]
  },
  {
   "cell_type": "code",
   "execution_count": null,
   "id": "f158d546",
   "metadata": {},
   "outputs": [
    {
     "name": "stdout",
     "output_type": "stream",
     "text": [
      "The validation accuracy is : 0.9922137260437012\n",
      "The training accuracy is : 0.9947375655174255\n",
      "The validation loss is : 0.04515548422932625\n",
      "The training loss is : 0.019459007307887077\n"
     ]
    }
   ],
   "source": [
    "print(\"The validation accuracy is :\", history.history['val_accuracy'][-1])\n",
    "print(\"The training accuracy is :\", history.history['accuracy'][-1])\n",
    "print(\"The validation loss is :\", history.history['val_loss'][-1])\n",
    "print(\"The training loss is :\", history.history['loss'][-1])"
   ]
  },
  {
   "cell_type": "code",
   "execution_count": null,
   "id": "e021b862",
   "metadata": {},
   "outputs": [
    {
     "data": {
      "image/png": "[encoded data removed]",
      "text/plain": [
       "<Figure size 432x432 with 1 Axes>"
      ]
     },
     "metadata": {
      "needs_background": "light"
     },
     "output_type": "display_data"
    }
   ],
   "source": [
    "plt.figure(figsize = (6,6))\n",
    "plt.plot(history.history['loss'], label='train')\n",
    "plt.plot(history.history['val_loss'], label='test')\n",
    "plt.legend()\n",
    "plt.title(\"Model Loss\")\n",
    "plt.show()"
   ]
  },
  {
   "cell_type": "code",
   "execution_count": null,
   "id": "787338b1",
   "metadata": {},
   "outputs": [
    {
     "data": {
      "image/png": "[encoded data removed]",
      "text/plain": [
       "<Figure size 432x432 with 1 Axes>"
      ]
     },
     "metadata": {
      "needs_background": "light"
     },
     "output_type": "display_data"
    }
   ],
   "source": [
    "plt.figure(figsize = (6,6))\n",
    "plt.plot(history.history['accuracy'], label='train')\n",
    "plt.plot(history.history['val_accuracy'], label='test')\n",
    "plt.legend()\n",
    "plt.title(\"Model Accuracy\")\n",
    "plt.show()"
   ]
  },
  {
   "cell_type": "markdown",
   "id": "85243224",
   "metadata": {},
   "source": [
    "### Prédiction sur les Nouvelles Images\n"
   ]
  },
  {
   "cell_type": "code",
   "execution_count": null,
   "id": "dd2eb096",
   "metadata": {
    "scrolled": false
   },
   "outputs": [],
   "source": [
    "\n",
    "dict_word = {0:'A',1:'B',2:'C',3:'D',4:'E',5:'F',6:'G',7:'H',8:'I',9:'J',10:'K',11:'L',12:'M',13:'N',14:'O',15:'P',16:'Q',17:'R',18:'S',19:'T',20:'U',21:'V',22:'W',23:'X', 24:'Y',25:'Z'}\n",
    "img_list_test = shuffle(X_test[:1000])\n",
    "fig, axes = plt.subplots(3, 3, figsize = (12, 15))\n",
    "axes = axes.flatten()\n",
    "for i in range(9):\n",
    "    img = np.reshape(X_test[i], (28, 28))\n",
    "    axes[i].imshow(img_list_test[i])\n",
    "    \n",
    "    pred = dict_word[np.argmax(model.predict(np.reshape(img_list_test[i],(1,28,28,1))))]\n",
    "    axes[i].set_title(\"Prediction: \" + pred, fontsize = 20, fontweight = 'bold', color = 'red')\n",
    "    axes[i].grid()"
   ]
  }
 ],
 "metadata": {
  "kernelspec": {
   "display_name": "Python 3 (ipykernel)",
   "language": "python",
   "name": "python3"
  },
  "language_info": {
   "codemirror_mode": {
    "name": "ipython",
    "version": 3
   },
   "file_extension": ".py",
   "mimetype": "text/x-python",
   "name": "python",
   "nbconvert_exporter": "python",
   "pygments_lexer": "ipython3",
   "version": "3.12.2"
  }
 },
 "nbformat": 4,
 "nbformat_minor": 5
}
